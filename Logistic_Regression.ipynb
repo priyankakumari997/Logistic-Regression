{
  "cells": [
    {
      "cell_type": "code",
      "execution_count": null,
      "id": "18311fdf",
      "metadata": {
        "id": "18311fdf"
      },
      "outputs": [],
      "source": [
        "import numpy as np\n",
        "import matplotlib.pyplot as plt"
      ]
    },
    {
      "cell_type": "markdown",
      "id": "a10748d4",
      "metadata": {
        "id": "a10748d4"
      },
      "source": [
        "# One Variable"
      ]
    },
    {
      "cell_type": "code",
      "execution_count": null,
      "id": "348750a5",
      "metadata": {
        "colab": {
          "base_uri": "https://localhost:8080/",
          "height": 721
        },
        "id": "348750a5",
        "outputId": "1c746306-2a04-4af5-dfba-cd7a78e6084c"
      },
      "outputs": [
        {
          "output_type": "display_data",
          "data": {
            "text/plain": [
              "<Figure size 432x288 with 1 Axes>"
            ],
            "image/png": "[encoded data removed]"
          },
          "metadata": {
            "needs_background": "light"
          }
        },
        {
          "output_type": "display_data",
          "data": {
            "text/plain": [
              "<Figure size 432x288 with 1 Axes>"
            ],
            "image/png": "[encoded data removed]"
          },
          "metadata": {
            "needs_background": "light"
          }
        },
        {
          "output_type": "stream",
          "name": "stdout",
          "text": [
            "[[2 3]\n",
            " [2 3]]\n",
            "              precision    recall  f1-score   support\n",
            "\n",
            "           0       0.50      0.40      0.44         5\n",
            "           1       0.50      0.60      0.55         5\n",
            "\n",
            "    accuracy                           0.50        10\n",
            "   macro avg       0.50      0.50      0.49        10\n",
            "weighted avg       0.50      0.50      0.49        10\n",
            "\n",
            "Cross-Enropy loss 6.925312312105041\n"
          ]
        }
      ],
      "source": [
        "X=np.random.rand(1,10)\n",
        "Y=np.array([0,1,1,0,1,0,0,0,1,1])\n",
        "#Gradient descent\n",
        "i=0\n",
        "w=np.random.rand()\n",
        "b=np.random.rand()\n",
        "l=0.05\n",
        "E=[]\n",
        "t=0.05 #tolerance\n",
        "while (i<100):\n",
        "    z=X*w+b\n",
        "    h=1/(1+np.exp(-z))\n",
        "    c=np.sum(-Y*(np.log(h))-(1-Y)*(np.log(1-h)))\n",
        "    E.append(c)\n",
        "    w_derv=np.sum(X*(h-Y))\n",
        "    b_derv=np.sum(h-Y)\n",
        "    w=w-l*w_derv\n",
        "    b=b-l*b_derv\n",
        "    i=i+1\n",
        "plt.plot(E)\n",
        "plt.show()\n",
        "z1=X*w+b\n",
        "Yh=np.round(1/(1+np.exp(-z1)))\n",
        "plt.scatter(X,Y)\n",
        "plt.scatter(X,Yh)\n",
        "plt.show()\n",
        "from sklearn import metrics\n",
        "y_pred = Yh.reshape(10,1)\n",
        "y_act = Y.reshape(10,1)\n",
        "print(metrics.confusion_matrix(y_act, y_pred))\n",
        "print(metrics.classification_report(y_act, y_pred))\n",
        "plt.show()\n",
        "print(\"Cross-Enropy loss\",(np.sum(-Y*(np.log(h))-(1-Y)*(np.log(1-h)))))"
      ]
    },
    {
      "cell_type": "code",
      "execution_count": null,
      "id": "67dc5f00",
      "metadata": {
        "id": "67dc5f00"
      },
      "outputs": [],
      "source": [
        "def confusion_matrix(pred,original): \n",
        "    matrix=np.zeros((2,2))\n",
        "    for i in range(pred.shape[0]):\n",
        "        if int(pred[i])==0 and int(original[i])==0: \n",
        "            matrix[0,0]+=1 #True Positives\n",
        "        elif int(pred[i])==0 and int(original[i])==1:\n",
        "            matrix[0,1]+=1 #False Positives\n",
        "        elif int(pred[i])==1 and int(original[i])==0:\n",
        "            matrix[1,0]+=1 #False Negatives\n",
        "        elif int(pred[i])==1 and int(original[i])==1:\n",
        "            matrix[1,1]+=1 #True Negatives\n",
        "    TP=matrix[0,0]\n",
        "    TN=matrix[1,1]\n",
        "    FP=matrix[0,1]\n",
        "    FN=matrix[1,0]\n",
        "    precision=TP/(TP+FP)\n",
        "    print(\"Precision:\",precision)\n",
        "    recall=TP/(TP+FN)\n",
        "    print(\"Recall:\",recall)\n",
        "    specificity= TN/(FP+TN)\n",
        "    print(\"Specificity:\",specificity)\n",
        "    negative_pred_value=TN/(FN+TN)\n",
        "    print(\"Negative Predicted Value:\",negative_pred_value)\n",
        "    f1=2*(precision*recall)/(precision+recall)\n",
        "    print(\"F1 score:\",f1)\n",
        "    return matrix"
      ]
    },
    {
      "cell_type": "code",
      "execution_count": null,
      "id": "700a5f49",
      "metadata": {
        "colab": {
          "base_uri": "https://localhost:8080/"
        },
        "id": "700a5f49",
        "outputId": "44b42130-8566-4cfa-87e4-a4fb9d6dcb80"
      },
      "outputs": [
        {
          "output_type": "stream",
          "name": "stdout",
          "text": [
            "Precision: 0.5\n",
            "Recall: 0.4\n",
            "Specificity: 0.6\n",
            "Negative Predicted Value: 0.5\n",
            "F1 score: 0.4444444444444445\n"
          ]
        },
        {
          "output_type": "execute_result",
          "data": {
            "text/plain": [
              "array([[2., 2.],\n",
              "       [3., 3.]])"
            ]
          },
          "metadata": {},
          "execution_count": 4
        }
      ],
      "source": [
        "confusion_matrix(y_pred,y_act)"
      ]
    },
    {
      "cell_type": "markdown",
      "id": "151c5f41",
      "metadata": {
        "id": "151c5f41"
      },
      "source": [
        "# Multivariable"
      ]
    },
    {
      "cell_type": "code",
      "execution_count": null,
      "id": "71f53d6b",
      "metadata": {
        "colab": {
          "base_uri": "https://localhost:8080/",
          "height": 828
        },
        "id": "71f53d6b",
        "outputId": "cef1e2c9-185b-4a57-ec58-de585ff543e5"
      },
      "outputs": [
        {
          "output_type": "display_data",
          "data": {
            "text/plain": [
              "<Figure size 432x288 with 1 Axes>"
            ],
            "image/png": "[encoded data removed]"
          },
          "metadata": {
            "needs_background": "light"
          }
        },
        {
          "output_type": "display_data",
          "data": {
            "text/plain": [
              "<Figure size 432x288 with 1 Axes>"
            ],
            "image/png": "[encoded data removed]"
          },
          "metadata": {
            "needs_background": "light"
          }
        },
        {
          "output_type": "stream",
          "name": "stdout",
          "text": [
            "[[5 0]\n",
            " [5 0]]\n",
            "              precision    recall  f1-score   support\n",
            "\n",
            "           0       0.50      1.00      0.67         5\n",
            "           1       0.00      0.00      0.00         5\n",
            "\n",
            "    accuracy                           0.50        10\n",
            "   macro avg       0.25      0.50      0.33        10\n",
            "weighted avg       0.25      0.50      0.33        10\n",
            "\n",
            "Cross-Enropy loss 6.9129816561884\n"
          ]
        },
        {
          "output_type": "stream",
          "name": "stderr",
          "text": [
            "/usr/local/lib/python3.7/dist-packages/sklearn/metrics/_classification.py:1318: UndefinedMetricWarning: Precision and F-score are ill-defined and being set to 0.0 in labels with no predicted samples. Use `zero_division` parameter to control this behavior.\n",
            "  _warn_prf(average, modifier, msg_start, len(result))\n",
            "/usr/local/lib/python3.7/dist-packages/sklearn/metrics/_classification.py:1318: UndefinedMetricWarning: Precision and F-score are ill-defined and being set to 0.0 in labels with no predicted samples. Use `zero_division` parameter to control this behavior.\n",
            "  _warn_prf(average, modifier, msg_start, len(result))\n",
            "/usr/local/lib/python3.7/dist-packages/sklearn/metrics/_classification.py:1318: UndefinedMetricWarning: Precision and F-score are ill-defined and being set to 0.0 in labels with no predicted samples. Use `zero_division` parameter to control this behavior.\n",
            "  _warn_prf(average, modifier, msg_start, len(result))\n"
          ]
        }
      ],
      "source": [
        "X=np.random.rand(2,10)\n",
        "Y=np.array([0,1,1,0,1,0,0,0,1,1])\n",
        "#Gradient descent\n",
        "i=0\n",
        "w=np.random.rand(2,1)\n",
        "#b=np.random.rand()\n",
        "l=0.05\n",
        "E=[]\n",
        "t=0.05 #tolerance\n",
        "while (i<100):\n",
        "    z=w.T.dot(X)\n",
        "    h=1/(1+np.exp(-z))\n",
        "    c=np.sum(-Y*(np.log(h))-(1-Y)*(np.log(1-h)))\n",
        "    E.append(c)\n",
        "    w_derv=np.sum(np.sum(X.dot((h-Y).T)))\n",
        "    #b_derv=np.sum(h-Y)\n",
        "    w=w-l*w_derv\n",
        "    #b=b-l*b_derv\n",
        "    i=i+1\n",
        "plt.plot(E)\n",
        "plt.show()\n",
        "z1=w.T.dot(X)\n",
        "Yh=np.round(1/(1+np.exp(-z1)))\n",
        "fig = plt.figure()\n",
        "ax = fig.add_subplot(111, projection='3d')\n",
        "ax.scatter(X[0,:], X[1,:],Y,c='blue',marker='o',alpha=1)\n",
        "ax.scatter(X[0,:], X[1,:],Yh,c='red',marker='o',alpha=1)\n",
        "plt.show()\n",
        "from sklearn import metrics\n",
        "y_pred = Yh.reshape(10,1)\n",
        "y_act = Y.reshape(10,1)\n",
        "print(metrics.confusion_matrix(y_act, y_pred))\n",
        "print(metrics.classification_report(y_act, y_pred))\n",
        "plt.show()\n",
        "print(\"Cross-Enropy loss\",(np.sum(-Y*(np.log(h))-(1-Y)*(np.log(1-h)))))"
      ]
    },
    {
      "cell_type": "code",
      "execution_count": null,
      "id": "4d71c3b4",
      "metadata": {
        "colab": {
          "base_uri": "https://localhost:8080/"
        },
        "id": "4d71c3b4",
        "outputId": "f270fbf3-8c70-4d7a-df53-4b1618d55943"
      },
      "outputs": [
        {
          "output_type": "stream",
          "name": "stdout",
          "text": [
            "Precision: 0.5\n",
            "Recall: 1.0\n",
            "Specificity: 0.0\n",
            "Negative Predicted Value: nan\n",
            "F1 score: 0.6666666666666666\n"
          ]
        },
        {
          "output_type": "stream",
          "name": "stderr",
          "text": [
            "/usr/local/lib/python3.7/dist-packages/ipykernel_launcher.py:22: RuntimeWarning: invalid value encountered in double_scalars\n"
          ]
        },
        {
          "output_type": "execute_result",
          "data": {
            "text/plain": [
              "array([[5., 5.],\n",
              "       [0., 0.]])"
            ]
          },
          "metadata": {},
          "execution_count": 36
        }
      ],
      "source": [
        "confusion_matrix(y_pred,y_act)"
      ]
    }
  ],
  "metadata": {
    "kernelspec": {
      "display_name": "Python 3 (ipykernel)",
      "language": "python",
      "name": "python3"
    },
    "language_info": {
      "codemirror_mode": {
        "name": "ipython",
        "version": 3
      },
      "file_extension": ".py",
      "mimetype": "text/x-python",
      "name": "python",
      "nbconvert_exporter": "python",
      "pygments_lexer": "ipython3",
      "version": "3.9.7"
    },
    "colab": {
      "name": "Logistic Regression.ipynb",
      "provenance": [],
      "collapsed_sections": []
    }
  },
  "nbformat": 4,
  "nbformat_minor": 5
}